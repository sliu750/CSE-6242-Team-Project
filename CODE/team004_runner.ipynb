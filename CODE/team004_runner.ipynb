{
 "cells": [
  {
   "cell_type": "markdown",
   "metadata": {
    "id": "pJQtdFEHBjGA"
   },
   "source": [
    "**Start here if you are on Google Colab.**"
   ]
  },
  {
   "cell_type": "code",
   "execution_count": null,
   "metadata": {
    "colab": {
     "base_uri": "https://localhost:8080/"
    },
    "executionInfo": {
     "elapsed": 13658,
     "status": "ok",
     "timestamp": 1744706495821,
     "user": {
      "displayName": "Sean Liu",
      "userId": "01620866560806391176"
     },
     "user_tz": 240
    },
    "id": "4LKW831FBmQA",
    "outputId": "41117db0-f844-4a6b-84e5-c25a82a9ee3e"
   },
   "outputs": [
    {
     "name": "stdout",
     "output_type": "stream",
     "text": [
      "Mounted at /content/drive\n"
     ]
    }
   ],
   "source": [
    "from google.colab import drive\n",
    "drive.mount('/content/drive')"
   ]
  },
  {
   "cell_type": "code",
   "execution_count": null,
   "metadata": {
    "colab": {
     "base_uri": "https://localhost:8080/"
    },
    "executionInfo": {
     "elapsed": 523,
     "status": "ok",
     "timestamp": 1744706498597,
     "user": {
      "displayName": "Sean Liu",
      "userId": "01620866560806391176"
     },
     "user_tz": 240
    },
    "id": "HLfiEKuVCCrk",
    "outputId": "6524b3e8-b42a-420a-e210-7b79ee5fb802"
   },
   "outputs": [
    {
     "name": "stdout",
     "output_type": "stream",
     "text": [
      "/content/drive/MyDrive/DVA 6242 Team Project/Code\n"
     ]
    }
   ],
   "source": [
    "%cd /content/drive/MyDrive/DVA 6242 Team Project/Code"
   ]
  },
  {
   "cell_type": "markdown",
   "metadata": {
    "id": "o79PsjxoCFOp"
   },
   "source": [
    "**Start here if you are on an IDE locally.**"
   ]
  },
  {
   "cell_type": "code",
   "execution_count": 1,
   "metadata": {
    "id": "ggMBt2TXCJoB"
   },
   "outputs": [],
   "source": [
    "import pickle"
   ]
  },
  {
   "cell_type": "markdown",
   "metadata": {
    "id": "ZptVY2w5CN_p"
   },
   "source": [
    "**Models for tree health classification**"
   ]
  },
  {
   "cell_type": "code",
   "execution_count": 2,
   "metadata": {
    "id": "zh-NkfIYCQjw"
   },
   "outputs": [],
   "source": [
    "tree_health_rfc = pickle.load(open('tree_health_random_forest_classifier.sav', 'rb'))"
   ]
  },
  {
   "cell_type": "code",
   "execution_count": 3,
   "metadata": {
    "id": "xKhJyAQVC2eZ"
   },
   "outputs": [],
   "source": [
    "tree_health_xgboost = pickle.load(open('tree_health_xgboost.sav', 'rb'))"
   ]
  },
  {
   "cell_type": "code",
   "execution_count": null,
   "metadata": {
    "id": "NWojgc5GDH2Z"
   },
   "outputs": [],
   "source": [
    "tree_health_ensemble = pickle.load(open('tree_health_ensemble.sav', 'rb'))"
   ]
  },
  {
   "cell_type": "markdown",
   "metadata": {
    "id": "ZeAHDmYwDaUx"
   },
   "source": [
    "**Models for public health risk prediction**"
   ]
  },
  {
   "cell_type": "code",
   "execution_count": null,
   "metadata": {
    "id": "ueTFvTmHDdxZ"
   },
   "outputs": [],
   "source": [
    "air_quality_and_health_rfr = pickle.load(open('air_quality_and_health_random_forest_regressor.sav', 'rb'))"
   ]
  },
  {
   "cell_type": "code",
   "execution_count": null,
   "metadata": {
    "id": "625LGzpiDqsZ"
   },
   "outputs": [],
   "source": [
    "air_quality_and_health_gb = pickle.load(open('air_quality_and_health_gradient_boosting.sav', 'rb'))"
   ]
  },
  {
   "cell_type": "code",
   "execution_count": null,
   "metadata": {
    "id": "lJQhLdrAD5AR"
   },
   "outputs": [],
   "source": [
    "air_quality_and_health_dnn = pickle.load(open('air_quality_and_health_dnn.sav', 'rb'))"
   ]
  },
  {
   "cell_type": "markdown",
   "metadata": {
    "id": "DEYLuOnvn-Ki"
   },
   "source": [
    "**User code here**"
   ]
  },
  {
   "cell_type": "markdown",
   "metadata": {
    "id": "sHnPYITAEhKp"
   },
   "source": [
    "You can pass in any input data, and call predict on any of the models.\n",
    "\n",
    "For example, pred = tree_health_xgboost.predict(X_test)"
   ]
  },
  {
   "cell_type": "code",
   "execution_count": null,
   "metadata": {
    "id": "0C4tlCr4pLfJ"
   },
   "outputs": [],
   "source": []
  }
 ],
 "metadata": {
  "accelerator": "GPU",
  "colab": {
   "authorship_tag": "ABX9TyNtfh9FrPmPurX2D7fE3JAM",
   "gpuType": "T4",
   "provenance": []
  },
  "kernelspec": {
   "display_name": "Python 3",
   "name": "python3"
  },
  "language_info": {
   "codemirror_mode": {
    "name": "ipython",
    "version": 3
   },
   "file_extension": ".py",
   "mimetype": "text/x-python",
   "name": "python",
   "nbconvert_exporter": "python",
   "pygments_lexer": "ipython3",
   "version": "3.11.9"
  }
 },
 "nbformat": 4,
 "nbformat_minor": 0
}
